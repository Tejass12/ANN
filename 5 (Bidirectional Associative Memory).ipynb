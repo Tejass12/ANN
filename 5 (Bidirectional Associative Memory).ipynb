{
 "cells": [
  {
   "cell_type": "code",
   "execution_count": 1,
   "id": "d0544b86",
   "metadata": {},
   "outputs": [
    {
     "name": "stdout",
     "output_type": "stream",
     "text": [
      "Input x: [ 1 -1 -1 -1]\n",
      "Output y: [ 1 -1]\n"
     ]
    }
   ],
   "source": [
    "import numpy as np\n",
    "X = np.array([[1, 1, 1, -1], [-1, -1, 1, 1]])\n",
    "Y = np.array([[1, -1], [-1, 1]])\n",
    "W = np.dot(Y.T, X)\n",
    "\n",
    "def bam(x):\n",
    "    return np.sign(np.dot(W, x))\n",
    "\n",
    "x_test = np.array([1, -1, -1, -1])\n",
    "y_test = bam(x_test)\n",
    "\n",
    "\n",
    "print(\"Input x:\", x_test)\n",
    "print(\"Output y:\", y_test)"
   ]
  },
  {
   "cell_type": "code",
   "execution_count": 2,
   "id": "e2205bf4",
   "metadata": {},
   "outputs": [
    {
     "name": "stdout",
     "output_type": "stream",
     "text": [
      "Weight Matrix:\n",
      " [[ 0. -2.]\n",
      " [ 2.  0.]\n",
      " [ 2.  0.]]\n",
      "\n",
      "Input Vector: [1 1 1]\n",
      "Recalled Output: [ 1. -1.]\n",
      "\n",
      "Output Vector: [1 1]\n",
      "Recalled Input: [-1.  1.  1.]\n"
     ]
    }
   ],
   "source": [
    "import numpy as np\n",
    "\n",
    "# Function to calculate the weight matrix for BAM\n",
    "def calculate_bam_weights(input_vectors, output_vectors):\n",
    "    # Ensure the input and output vectors are numpy arrays\n",
    "    input_vectors = np.array(input_vectors)\n",
    "    output_vectors = np.array(output_vectors)\n",
    "    \n",
    "    # Initialize the weight matrix to zero\n",
    "    weight_matrix = np.zeros((input_vectors.shape[1], output_vectors.shape[1]))\n",
    "    \n",
    "    # Calculate the weight matrix using the outer product\n",
    "    for i in range(input_vectors.shape[0]):\n",
    "        weight_matrix += np.outer(input_vectors[i], output_vectors[i])\n",
    "    \n",
    "    return weight_matrix\n",
    "\n",
    "# Function to recall output from input using BAM\n",
    "def recall_output(input_vector, weight_matrix):\n",
    "    return np.sign(np.dot(input_vector, weight_matrix))\n",
    "\n",
    "# Function to recall input from output using BAM\n",
    "def recall_input(output_vector, weight_matrix):\n",
    "    return np.sign(np.dot(output_vector, weight_matrix.T))\n",
    "\n",
    "# Example input-output pairs\n",
    "input_vectors = [\n",
    "    np.array([1, 1, 1]),  # Input vector 1\n",
    "    np.array([-1, 1, 1])   # Input vector 2\n",
    "]\n",
    "\n",
    "output_vectors = [\n",
    "    np.array([1, -1]),  # Output vector 1\n",
    "    np.array([1, 1])    # Output vector 2\n",
    "]\n",
    "\n",
    "# Calculate the BAM weight matrix\n",
    "weight_matrix = calculate_bam_weights(input_vectors, output_vectors)\n",
    "\n",
    "# Print the weight matrix\n",
    "print(\"Weight Matrix:\\n\", weight_matrix)\n",
    "\n",
    "# Test the BAM with an input vector and get the output\n",
    "input_test = np.array([1, 1, 1])\n",
    "output_test = recall_output(input_test, weight_matrix)\n",
    "print(\"\\nInput Vector:\", input_test)\n",
    "print(\"Recalled Output:\", output_test)\n",
    "\n",
    "# Test the BAM with an output vector and get the input\n",
    "output_test = np.array([1, 1])\n",
    "input_test_recalled = recall_input(output_test, weight_matrix)\n",
    "print(\"\\nOutput Vector:\", output_test)\n",
    "print(\"Recalled Input:\", input_test_recalled)\n"
   ]
  },
  {
   "cell_type": "code",
   "execution_count": null,
   "id": "63b6c9bd",
   "metadata": {},
   "outputs": [],
   "source": []
  }
 ],
 "metadata": {
  "kernelspec": {
   "display_name": "Python 3 (ipykernel)",
   "language": "python",
   "name": "python3"
  },
  "language_info": {
   "codemirror_mode": {
    "name": "ipython",
    "version": 3
   },
   "file_extension": ".py",
   "mimetype": "text/x-python",
   "name": "python",
   "nbconvert_exporter": "python",
   "pygments_lexer": "ipython3",
   "version": "3.7.6"
  }
 },
 "nbformat": 4,
 "nbformat_minor": 5
}
