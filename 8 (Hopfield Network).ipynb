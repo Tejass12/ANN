{
 "cells": [
  {
   "cell_type": "code",
   "execution_count": 1,
   "id": "e8e99cd1",
   "metadata": {},
   "outputs": [
    {
     "name": "stdout",
     "output_type": "stream",
     "text": [
      "Input vector:\n",
      "[ 1  1 -1 -1]\n",
      "Output vector:\n",
      "[-1 -1  1  1]\n"
     ]
    }
   ],
   "source": [
    "#Assignments: 9 \n",
    "#Write a python program to design a Hopfield Network which stores 4 vectors\n",
    "\n",
    "import numpy as np\n",
    "# Define the 4 vectors to be stored\n",
    "vectors = np.array([[1, 1, -1, -1],\n",
    "                    [-1, -1, 1, 1],\n",
    "                    [1, -1, 1, -1],\n",
    "                    [-1, 1, -1, 1]])\n",
    "\n",
    "# Calculate the weight matrix\n",
    "weights = np.zeros((4, 4))\n",
    "for i in range(4):\n",
    "    for j in range(4):\n",
    "        if i == j:\n",
    "            weights[i, j] = 0\n",
    "        else:\n",
    "            weights[i, j] = np.sum(vectors[i] * vectors[j])\n",
    "            \n",
    "# Define the activation function (in this case, a sign function)\n",
    "def activation(x):\n",
    "    return np.where(x >= 0, 1, -1)\n",
    "\n",
    "# Define the Hopfield network function\n",
    "def hopfield(input_vector, weights):\n",
    "    output_vector = activation(np.dot(weights, input_vector))\n",
    "    return output_vector\n",
    "\n",
    "# Test the Hopfield network with one of the stored vectors as input\n",
    "input_vector = vectors[0]\n",
    "output_vector = hopfield(input_vector, weights)\n",
    "print(\"Input vector:\")\n",
    "print(input_vector)\n",
    "print(\"Output vector:\")\n",
    "print(output_vector)"
   ]
  },
  {
   "cell_type": "code",
   "execution_count": 2,
   "id": "7b32660e",
   "metadata": {},
   "outputs": [
    {
     "name": "stdout",
     "output_type": "stream",
     "text": [
      "Noisy Input:  [1, -1, 1, 1]\n",
      "Recalled Pattern:  [-1 -1  1  1]\n"
     ]
    }
   ],
   "source": [
    "import numpy as np\n",
    "\n",
    "class HopfieldNetwork:\n",
    "    def __init__(self, n_units):\n",
    "        self.n_units = n_units\n",
    "        self.weights = np.zeros((n_units, n_units))\n",
    "\n",
    "    def train(self, patterns):\n",
    "        \"\"\"Train the Hopfield network with given patterns.\"\"\"\n",
    "        for pattern in patterns:\n",
    "            pattern = np.array(pattern).reshape(-1, 1)\n",
    "            self.weights += np.dot(pattern, pattern.T)\n",
    "        \n",
    "        # Zero the diagonal to avoid self-connection\n",
    "        np.fill_diagonal(self.weights, 0)\n",
    "\n",
    "    def recall(self, pattern, n_iterations=5):\n",
    "        \"\"\"Recall a pattern after noisy input.\"\"\"\n",
    "        pattern = np.array(pattern).reshape(-1, 1)\n",
    "        for _ in range(n_iterations):\n",
    "            for i in range(self.n_units):\n",
    "                # Update each unit asynchronously\n",
    "                sum_input = np.dot(self.weights[i], pattern)\n",
    "                pattern[i] = 1 if sum_input > 0 else -1\n",
    "        return pattern.flatten()\n",
    "\n",
    "# Define the training patterns (4 binary vectors)\n",
    "patterns = [\n",
    "    [1, 1, -1, -1],  # First pattern\n",
    "    [1, -1, 1, -1],  # Second pattern\n",
    "    [-1, 1, 1, -1],  # Third pattern\n",
    "    [-1, -1, 1, 1],  # Fourth pattern\n",
    "]\n",
    "\n",
    "# Initialize the Hopfield Network with 4 neurons (4 units for 4 elements in each vector)\n",
    "hopfield_network = HopfieldNetwork(n_units=4)\n",
    "\n",
    "# Train the network with the given patterns\n",
    "hopfield_network.train(patterns)\n",
    "\n",
    "# Test the recall function with a noisy version of one of the patterns\n",
    "noisy_input = [1, -1, 1, 1]  # Noisy version of one of the patterns\n",
    "\n",
    "# Recall the pattern\n",
    "recalled_pattern = hopfield_network.recall(noisy_input, n_iterations=5)\n",
    "\n",
    "print(\"Noisy Input: \", noisy_input)\n",
    "print(\"Recalled Pattern: \", recalled_pattern)\n"
   ]
  },
  {
   "cell_type": "code",
   "execution_count": null,
   "id": "7e047aa1",
   "metadata": {},
   "outputs": [],
   "source": []
  }
 ],
 "metadata": {
  "kernelspec": {
   "display_name": "Python 3 (ipykernel)",
   "language": "python",
   "name": "python3"
  },
  "language_info": {
   "codemirror_mode": {
    "name": "ipython",
    "version": 3
   },
   "file_extension": ".py",
   "mimetype": "text/x-python",
   "name": "python",
   "nbconvert_exporter": "python",
   "pygments_lexer": "ipython3",
   "version": "3.7.6"
  }
 },
 "nbformat": 4,
 "nbformat_minor": 5
}
