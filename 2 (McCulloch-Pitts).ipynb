{
 "cells": [
  {
   "cell_type": "code",
   "execution_count": 1,
   "id": "a7ac9b00",
   "metadata": {},
   "outputs": [
    {
     "name": "stdout",
     "output_type": "stream",
     "text": [
      "A B | A AND NOT B\n",
      "0 0 |      0\n",
      "0 1 |      0\n",
      "1 0 |      1\n",
      "1 1 |      0\n"
     ]
    }
   ],
   "source": [
    "# McCulloch-Pitts model to implement ANDNOT (A AND NOT B)\n",
    "\n",
    "def mp_andnot(a, b):\n",
    "    # Define weights and threshold\n",
    "    w1 = 1    # weight for input A\n",
    "    w2 = -1   # weight for input B (inverted)\n",
    "    threshold = 1\n",
    "\n",
    "    # Weighted sum\n",
    "    summation = a * w1 + b * w2\n",
    "\n",
    "    # Apply threshold activation\n",
    "    return 1 if summation >= threshold else 0\n",
    "\n",
    "# Test all input combinations\n",
    "print(\"A B | A AND NOT B\")\n",
    "for a in [0, 1]:\n",
    "    for b in [0, 1]:\n",
    "        output = mp_andnot(a, b)\n",
    "        print(f\"{a} {b} |      {output}\")\n"
   ]
  },
  {
   "cell_type": "markdown",
   "id": "45949339",
   "metadata": {},
   "source": [
    "### OR (Both codes are same )"
   ]
  },
  {
   "cell_type": "code",
   "execution_count": 2,
   "id": "926b0520",
   "metadata": {},
   "outputs": [
    {
     "name": "stdout",
     "output_type": "stream",
     "text": [
      "0\n",
      "1\n",
      "0\n",
      "0\n"
     ]
    }
   ],
   "source": [
    "import numpy as np\n",
    "def mp_neuron(inputs, weights, threshold):\n",
    "    weighted_sum = np.dot(inputs, weights)\n",
    "    output = 1 if weighted_sum >= threshold else 0\n",
    "    return output\n",
    "def and_not(x1, x2):\n",
    "    weights = [1, -1] \n",
    "    threshold = 1   \n",
    "    inputs = np.array([x1, x2])\n",
    "    output = mp_neuron(inputs, weights, threshold)\n",
    "    return output\n",
    "print(and_not(0, 0)) \n",
    "print(and_not(1, 0))  \n",
    "print(and_not(0, 1))  \n",
    "print(and_not(1, 1))   "
   ]
  },
  {
   "cell_type": "code",
   "execution_count": null,
   "id": "62ebac17",
   "metadata": {},
   "outputs": [],
   "source": []
  }
 ],
 "metadata": {
  "kernelspec": {
   "display_name": "Python 3 (ipykernel)",
   "language": "python",
   "name": "python3"
  },
  "language_info": {
   "codemirror_mode": {
    "name": "ipython",
    "version": 3
   },
   "file_extension": ".py",
   "mimetype": "text/x-python",
   "name": "python",
   "nbconvert_exporter": "python",
   "pygments_lexer": "ipython3",
   "version": "3.7.6"
  }
 },
 "nbformat": 4,
 "nbformat_minor": 5
}
